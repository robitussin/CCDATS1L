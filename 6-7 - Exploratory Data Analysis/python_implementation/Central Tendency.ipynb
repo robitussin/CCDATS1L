{
 "cells": [
  {
   "cell_type": "code",
   "execution_count": 1,
   "metadata": {},
   "outputs": [],
   "source": [
    "import pandas as pd"
   ]
  },
  {
   "cell_type": "code",
   "execution_count": 2,
   "metadata": {},
   "outputs": [],
   "source": [
    "dataMatrix = {\"D1\":[135, 137, 136, 138, 138],\n",
    "\n",
    "              \"D2\":[43,   42, 42, 42, 42],\n",
    "\n",
    "              \"D3\":[72, 73, 72, 72, 73],\n",
    "\n",
    "              \"D4\":[100, 102, 100, 103, 104]\n",
    "             }\n",
    "\n",
    "dataFrame = pd.DataFrame(data=dataMatrix)"
   ]
  },
  {
   "cell_type": "code",
   "execution_count": 3,
   "metadata": {},
   "outputs": [
    {
     "name": "stdout",
     "output_type": "stream",
     "text": [
      "    D1  D2  D3   D4\n",
      "0  135  43  72  100\n",
      "1  137  42  73  102\n",
      "2  136  42  72  100\n",
      "3  138  42  72  103\n",
      "4  138  42  73  104\n"
     ]
    }
   ],
   "source": [
    "print(dataFrame)"
   ]
  },
  {
   "cell_type": "markdown",
   "metadata": {},
   "source": [
    "## Mean"
   ]
  },
  {
   "cell_type": "markdown",
   "metadata": {},
   "source": [
    "$$\n",
    "\n",
    "\\bar{x} = \\frac{\\Sigma x}{N}\n",
    "\n",
    "$$\n",
    "\n",
    "Where:\n",
    "\n",
    "$\\Sigma$ represents the summation\n",
    "\n",
    "$X$ represents observations\n",
    "\n",
    "$N$ represents the number of observations "
   ]
  },
  {
   "cell_type": "code",
   "execution_count": 4,
   "metadata": {},
   "outputs": [
    {
     "name": "stdout",
     "output_type": "stream",
     "text": [
      "Mean:Computed column-wise:\n",
      "D1    136.8\n",
      "D2     42.2\n",
      "D3     72.4\n",
      "D4    101.8\n",
      "dtype: float64\n"
     ]
    }
   ],
   "source": [
    "print(\"Mean:Computed column-wise:\")\n",
    "\n",
    "meanData = dataFrame.mean()\n",
    "\n",
    "print(meanData)"
   ]
  },
  {
   "cell_type": "code",
   "execution_count": 5,
   "metadata": {},
   "outputs": [
    {
     "name": "stdout",
     "output_type": "stream",
     "text": [
      "Mean:Computed row-wise:\n",
      "0    87.50\n",
      "1    88.50\n",
      "2    87.50\n",
      "3    88.75\n",
      "4    89.25\n",
      "dtype: float64\n"
     ]
    }
   ],
   "source": [
    "print(\"Mean:Computed row-wise:\")\n",
    "\n",
    "meanData = dataFrame.mean(axis=1)\n",
    "\n",
    "print(meanData)"
   ]
  },
  {
   "cell_type": "markdown",
   "metadata": {},
   "source": [
    "## Median"
   ]
  },
  {
   "cell_type": "markdown",
   "metadata": {},
   "source": [
    "#### For odd number of observations"
   ]
  },
  {
   "cell_type": "markdown",
   "metadata": {},
   "source": [
    "$$\n",
    "\n",
    "M = \\frac{N + 1}{2}\n",
    "\n",
    "$$\n",
    "\n",
    "Where:\n",
    "\n",
    "$N$ represents the number of observations "
   ]
  },
  {
   "cell_type": "markdown",
   "metadata": {},
   "source": [
    "#### For even number of observations"
   ]
  },
  {
   "cell_type": "markdown",
   "metadata": {},
   "source": [
    "$$\n",
    "\n",
    "M = \\frac{\\frac{n}{2} + (\\frac{n}{2} + 1)}{2}\n",
    "\n",
    "$$\n",
    "\n",
    "Where:\n",
    "\n",
    "$N$ represents the number of observations "
   ]
  },
  {
   "cell_type": "code",
   "execution_count": 6,
   "metadata": {},
   "outputs": [
    {
     "name": "stdout",
     "output_type": "stream",
     "text": [
      "Median:Computed column-wise:\n",
      "D1    137.0\n",
      "D2     42.0\n",
      "D3     72.0\n",
      "D4    102.0\n",
      "dtype: float64\n"
     ]
    }
   ],
   "source": [
    "print(\"Median:Computed column-wise:\")\n",
    "\n",
    "medianData = dataFrame.median()\n",
    "\n",
    "print(medianData)"
   ]
  },
  {
   "cell_type": "code",
   "execution_count": 7,
   "metadata": {},
   "outputs": [
    {
     "name": "stdout",
     "output_type": "stream",
     "text": [
      "Median:Computed row-wise:\n",
      "0    86.0\n",
      "1    87.5\n",
      "2    86.0\n",
      "3    87.5\n",
      "4    88.5\n",
      "dtype: float64\n"
     ]
    }
   ],
   "source": [
    "print(\"Median:Computed row-wise:\")\n",
    "\n",
    "medianData = dataFrame.median(axis=1)\n",
    "\n",
    "print(medianData)"
   ]
  },
  {
   "cell_type": "markdown",
   "metadata": {},
   "source": [
    "## Mode"
   ]
  },
  {
   "cell_type": "markdown",
   "metadata": {},
   "source": [
    "The mode is one of the values of the measures of central tendency. This value gives us a rough idea about which of the items in a data set tend to occur most frequently."
   ]
  },
  {
   "cell_type": "code",
   "execution_count": 8,
   "metadata": {},
   "outputs": [
    {
     "name": "stdout",
     "output_type": "stream",
     "text": [
      "Mode:Computed column-wise:\n",
      "    D1  D2  D3   D4\n",
      "0  138  42  72  100\n"
     ]
    }
   ],
   "source": [
    "print(\"Mode:Computed column-wise:\")\n",
    "\n",
    "modeData = dataFrame.mode()\n",
    "\n",
    "print(modeData)"
   ]
  },
  {
   "cell_type": "code",
   "execution_count": 9,
   "metadata": {},
   "outputs": [
    {
     "name": "stdout",
     "output_type": "stream",
     "text": [
      "Mode:Computed row-wise:\n",
      "    0   1    2    3\n",
      "0  43  72  100  135\n",
      "1  42  73  102  137\n",
      "2  42  72  100  136\n",
      "3  42  72  103  138\n",
      "4  42  73  104  138\n"
     ]
    }
   ],
   "source": [
    "print(\"Mode:Computed row-wise:\")\n",
    "\n",
    "modeData = dataFrame.mode(axis=1)\n",
    "\n",
    "print(modeData)"
   ]
  }
 ],
 "metadata": {
  "kernelspec": {
   "display_name": "Python 3",
   "language": "python",
   "name": "python3"
  },
  "language_info": {
   "codemirror_mode": {
    "name": "ipython",
    "version": 3
   },
   "file_extension": ".py",
   "mimetype": "text/x-python",
   "name": "python",
   "nbconvert_exporter": "python",
   "pygments_lexer": "ipython3",
   "version": "3.11.4"
  },
  "orig_nbformat": 4
 },
 "nbformat": 4,
 "nbformat_minor": 2
}
