{
  "cells": [
    {
      "cell_type": "markdown",
      "metadata": {},
      "source": [
        "# Plotly"
      ]
    },
    {
      "cell_type": "markdown",
      "metadata": {},
      "source": [
        "Plotly is an interactive, open-source, and browser-based graphing library for Python\n"
      ]
    },
    {
      "cell_type": "code",
      "execution_count": null,
      "metadata": {
        "id": "haZK4Acd7N1-"
      },
      "outputs": [],
      "source": [
        "from urllib.request import urlopen\n",
        "import json\n",
        "with urlopen('https://raw.githubusercontent.com/plotly/datasets/master/geojson-counties-fips.json') as response:\n",
        "    counties = json.load(response)\n",
        "\n",
        "import pandas as pd\n",
        "import plotly.express as px"
      ]
    },
    {
      "cell_type": "code",
      "execution_count": null,
      "metadata": {
        "colab": {
          "base_uri": "https://localhost:8080/"
        },
        "id": "DiY_Y4Ns8x7m",
        "outputId": "1fcb8c89-5d79-41c6-9cc1-2d640247a2ab"
      },
      "outputs": [],
      "source": [
        "df = pd.read_csv(\"Vaccine_Hesitancy_for_COVID-19__County_and_local_estimates.csv\", dtype={\"FIPS Code\": str})\n",
        "\n",
        "print(df.info())"
      ]
    },
    {
      "cell_type": "code",
      "execution_count": null,
      "metadata": {
        "colab": {
          "base_uri": "https://localhost:8080/"
        },
        "id": "8_X-xMkd6B4s",
        "outputId": "43a84bc9-7353-47cc-81d4-b09ab4c9a824"
      },
      "outputs": [],
      "source": [
        "print(df.head())"
      ]
    },
    {
      "cell_type": "code",
      "execution_count": null,
      "metadata": {
        "colab": {
          "base_uri": "https://localhost:8080/",
          "height": 542
        },
        "id": "-pDwBtQl9iRu",
        "outputId": "447a6547-7855-4873-ceb8-11e3142959d3"
      },
      "outputs": [],
      "source": [
        "fig = px.choropleth(df, geojson=counties, locations='FIPS Code', color='Estimated hesitant',\n",
        "                           color_continuous_scale=\"Viridis\",\n",
        "                           range_color=(0.025, 0.3),\n",
        "                           scope=\"usa\",\n",
        "                           labels={'unemp':'unemployment rate'})\n",
        "\n",
        "fig.update_layout(margin={\"r\":0,\"t\":0,\"l\":0,\"b\":0})\n",
        "fig.show()"
      ]
    },
    {
      "cell_type": "code",
      "execution_count": null,
      "metadata": {
        "colab": {
          "base_uri": "https://localhost:8080/",
          "height": 542
        },
        "id": "N8MhFpqacNOj",
        "outputId": "ea5b23bc-1d49-4990-d578-8e956fceadf2"
      },
      "outputs": [],
      "source": [
        "max = df[\"Percent non-Hispanic Black\"].max()\n",
        "min = df[\"Percent non-Hispanic Black\"].min()\n",
        "\n",
        "fig = px.choropleth(df, geojson=counties, locations='FIPS Code', color='Percent non-Hispanic Black',\n",
        "                           color_continuous_scale=\"Viridis\",\n",
        "                           range_color=(min, max),\n",
        "                           scope=\"usa\",\n",
        "                           labels={'unemp':'unemployment rate'})\n",
        "\n",
        "fig.update_layout(margin={\"r\":0,\"t\":0,\"l\":0,\"b\":0})\n",
        "fig.show()"
      ]
    },
    {
      "cell_type": "code",
      "execution_count": null,
      "metadata": {
        "colab": {
          "base_uri": "https://localhost:8080/",
          "height": 542
        },
        "id": "H6LXpUySdG7I",
        "outputId": "6721f390-fb8b-4b06-ea7e-d245c9cf71c2"
      },
      "outputs": [],
      "source": [
        "max = df[\"Percent non-Hispanic Asian\"].max()\n",
        "min = df[\"Percent non-Hispanic Asian\"].min()\n",
        "\n",
        "fig = px.choropleth(df, geojson=counties, locations='FIPS Code', color='Percent non-Hispanic Asian',\n",
        "                           color_continuous_scale=\"Viridis\",\n",
        "                           range_color=(min, max),\n",
        "                           scope=\"usa\",\n",
        "                           labels={'unemp':'unemployment rate'})\n",
        "\n",
        "fig.update_layout(margin={\"r\":0,\"t\":0,\"l\":0,\"b\":0})\n",
        "fig.show()"
      ]
    },
    {
      "cell_type": "code",
      "execution_count": null,
      "metadata": {
        "colab": {
          "base_uri": "https://localhost:8080/",
          "height": 542
        },
        "id": "LBwzkkrydN_4",
        "outputId": "b7280a75-4ad6-4905-ebfb-94b73685ea3b"
      },
      "outputs": [],
      "source": [
        "max = df[\"Percent non-Hispanic White\"].max()\n",
        "min = df[\"Percent non-Hispanic White\"].min()\n",
        "\n",
        "fig = px.choropleth(df, geojson=counties, locations='FIPS Code', color='Percent non-Hispanic White',\n",
        "                           color_continuous_scale=\"Viridis\",\n",
        "                           range_color=(min, max),\n",
        "                           scope=\"usa\",\n",
        "                           labels={'unemp':'unemployment rate'})\n",
        "\n",
        "fig.update_layout(margin={\"r\":0,\"t\":0,\"l\":0,\"b\":0})\n",
        "fig.show()"
      ]
    },
    {
      "cell_type": "code",
      "execution_count": null,
      "metadata": {
        "colab": {
          "base_uri": "https://localhost:8080/",
          "height": 542
        },
        "id": "YnGQfCdSds4L",
        "outputId": "25c759b6-ee5e-4643-d8e3-d5162c28a489"
      },
      "outputs": [],
      "source": [
        "max = df[\"Percent non-Hispanic American Indian/Alaska Native\"].max()\n",
        "min = df[\"Percent non-Hispanic American Indian/Alaska Native\"].min()\n",
        "\n",
        "fig = px.choropleth(df, geojson=counties, locations='FIPS Code', color='Percent non-Hispanic American Indian/Alaska Native',\n",
        "                           color_continuous_scale=\"Viridis\",\n",
        "                           range_color=(min, max),\n",
        "                           scope=\"usa\",\n",
        "                           labels={'unemp':'unemployment rate'})\n",
        "\n",
        "fig.update_layout(margin={\"r\":0,\"t\":0,\"l\":0,\"b\":0})\n",
        "fig.show()"
      ]
    },
    {
      "cell_type": "code",
      "execution_count": null,
      "metadata": {
        "colab": {
          "base_uri": "https://localhost:8080/",
          "height": 542
        },
        "id": "LbRzOn4feA_B",
        "outputId": "0ffba00b-2b5e-46fa-a224-b169ebd6a5d6"
      },
      "outputs": [],
      "source": [
        "max = df[\"Percent non-Hispanic Native Hawaiian/Pacific Islander\"].max()\n",
        "min = df[\"Percent non-Hispanic Native Hawaiian/Pacific Islander\"].min()\n",
        "\n",
        "fig = px.choropleth(df, geojson=counties, locations='FIPS Code', color='Percent non-Hispanic Native Hawaiian/Pacific Islander',\n",
        "                           color_continuous_scale=\"Viridis\",\n",
        "                           range_color=(min, max),\n",
        "                           scope=\"usa\",\n",
        "                           labels={'unemp':'unemployment rate'})\n",
        "\n",
        "fig.update_layout(margin={\"r\":0,\"t\":0,\"l\":0,\"b\":0})\n",
        "fig.show()"
      ]
    },
    {
      "cell_type": "code",
      "execution_count": null,
      "metadata": {
        "colab": {
          "base_uri": "https://localhost:8080/",
          "height": 542
        },
        "id": "o5DKpmkbcxIg",
        "outputId": "9212b0b7-4350-4c1c-f84e-2f46f9d99aca"
      },
      "outputs": [],
      "source": [
        "max = df[\"Percent Hispanic\"].max()\n",
        "min = df[\"Percent Hispanic\"].min()\n",
        "\n",
        "fig = px.choropleth(df, geojson=counties, locations='FIPS Code', color='Percent Hispanic',\n",
        "                           color_continuous_scale=\"Viridis\",\n",
        "                           range_color=(min, max),\n",
        "                           scope=\"usa\",\n",
        "                           labels={'unemp':'unemployment rate'})\n",
        "\n",
        "fig.update_layout(margin={\"r\":0,\"t\":0,\"l\":0,\"b\":0})\n",
        "fig.show()"
      ]
    }
  ],
  "metadata": {
    "colab": {
      "provenance": []
    },
    "kernelspec": {
      "display_name": "Python 3",
      "name": "python3"
    },
    "language_info": {
      "codemirror_mode": {
        "name": "ipython",
        "version": 3
      },
      "file_extension": ".py",
      "mimetype": "text/x-python",
      "name": "python",
      "nbconvert_exporter": "python",
      "pygments_lexer": "ipython3",
      "version": "3.10.9"
    }
  },
  "nbformat": 4,
  "nbformat_minor": 0
}
